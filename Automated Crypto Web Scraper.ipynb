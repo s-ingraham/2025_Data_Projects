{
 "cells": [
  {
   "cell_type": "markdown",
   "id": "47b49966-d2c8-4201-b581-3f2fe67e5f3e",
   "metadata": {},
   "source": [
    "# Automated Crypto Web Scraper"
   ]
  },
  {
   "cell_type": "code",
   "execution_count": 2,
   "id": "3361f59a-ded4-45d3-aec5-8c1d8a9ad85a",
   "metadata": {},
   "outputs": [],
   "source": [
    "from bs4 import BeautifulSoup\n",
    "import requests"
   ]
  },
  {
   "cell_type": "code",
   "execution_count": 4,
   "id": "e4cc7391-0809-4f6f-9e26-8ac03599d7a9",
   "metadata": {},
   "outputs": [],
   "source": [
    "url = 'https://coinmarketcap.com/currencies/bitcoin/'\n",
    "\n",
    "page = requests.get(url)\n",
    "\n",
    "soup = BeautifulSoup(page.text, 'html')"
   ]
  },
  {
   "cell_type": "code",
   "execution_count": 40,
   "id": "04c6e62a-f212-47b6-8ed9-5d5f8b5ea2e7",
   "metadata": {},
   "outputs": [
    {
     "name": "stdout",
     "output_type": "stream",
     "text": [
      "Bitcoin\n"
     ]
    }
   ],
   "source": [
    "# CRYPTOCURRENCY NAME:\n",
    "\n",
    "#  Find the first instance in the html code of a span with the data-role attribute \"coin-name\"\n",
    "coin_name_span = soup.find('span', {'data-role': 'coin-name'})\n",
    "\n",
    "# Extract the name of the cryptocurrency from the title attribute of the coin-name span\n",
    "crypto_name = coin_name_span['title']\n",
    "print(crypto_name)"
   ]
  },
  {
   "cell_type": "code",
   "execution_count": 46,
   "id": "6f19e682-0edd-4660-b2ac-b822c6ef5a9a",
   "metadata": {},
   "outputs": [
    {
     "name": "stdout",
     "output_type": "stream",
     "text": [
      "$82,393.27\n"
     ]
    }
   ],
   "source": [
    "# CRYPTOCURRENCY PRICE:\n",
    "\n",
    "# Find the first instance in the html code of a span with class attribute \"sc-65e7f566-0 WXGwg base-text\"\n",
    "crypto_price = soup.find('span', class_ = 'sc-65e7f566-0 WXGwg base-text').text\n",
    "print(crypto_price)"
   ]
  },
  {
   "cell_type": "code",
   "execution_count": 52,
   "id": "bb6e266e-5958-44ea-9026-688b1c6932c8",
   "metadata": {},
   "outputs": [
    {
     "name": "stdout",
     "output_type": "stream",
     "text": [
      "82,393.27\n"
     ]
    }
   ],
   "source": [
    "# Remove the dollar sign\n",
    "final_price = crypto_price.replace('$','')\n",
    "print(final_price)"
   ]
  },
  {
   "cell_type": "code",
   "execution_count": 60,
   "id": "42f25f98-ed1d-49a2-b0a6-56383200e14b",
   "metadata": {},
   "outputs": [
    {
     "name": "stdout",
     "output_type": "stream",
     "text": [
      "2025-03-29 12:55:19.571764\n"
     ]
    }
   ],
   "source": [
    "# Get timestamps for the prices\n",
    "from datetime import datetime\n",
    "date_time = datetime.now()\n",
    "print(date_time)"
   ]
  },
  {
   "cell_type": "code",
   "execution_count": 54,
   "id": "bf392aee-daff-4931-827f-fd00b6dc45fc",
   "metadata": {},
   "outputs": [],
   "source": [
    "import pandas as pd"
   ]
  },
  {
   "cell_type": "code",
   "execution_count": 62,
   "id": "11456287-6b73-45df-994f-a6820582fdf9",
   "metadata": {},
   "outputs": [
    {
     "data": {
      "text/html": [
       "<div>\n",
       "<style scoped>\n",
       "    .dataframe tbody tr th:only-of-type {\n",
       "        vertical-align: middle;\n",
       "    }\n",
       "\n",
       "    .dataframe tbody tr th {\n",
       "        vertical-align: top;\n",
       "    }\n",
       "\n",
       "    .dataframe thead th {\n",
       "        text-align: right;\n",
       "    }\n",
       "</style>\n",
       "<table border=\"1\" class=\"dataframe\">\n",
       "  <thead>\n",
       "    <tr style=\"text-align: right;\">\n",
       "      <th></th>\n",
       "      <th>Crypto Name</th>\n",
       "      <th>Price</th>\n",
       "      <th>TimeStamp</th>\n",
       "    </tr>\n",
       "  </thead>\n",
       "  <tbody>\n",
       "    <tr>\n",
       "      <th>0</th>\n",
       "      <td>Bitcoin</td>\n",
       "      <td>82,393.27</td>\n",
       "      <td>2025-03-29 12:55:19.571764</td>\n",
       "    </tr>\n",
       "  </tbody>\n",
       "</table>\n",
       "</div>"
      ],
      "text/plain": [
       "  Crypto Name      Price                  TimeStamp\n",
       "0     Bitcoin  82,393.27 2025-03-29 12:55:19.571764"
      ]
     },
     "execution_count": 62,
     "metadata": {},
     "output_type": "execute_result"
    }
   ],
   "source": [
    "# Create a dictionary which includes the crypto name and price\n",
    "dict = {'Crypto Name':crypto_name, 'Price':final_price, 'TimeStamp':date_time}\n",
    "\n",
    "# Create a pandas dataframe from with the two keys from the dictionary as columns\n",
    "df = pd.DataFrame([dict])\n",
    "df"
   ]
  },
  {
   "cell_type": "code",
   "execution_count": 64,
   "id": "56f57357-324e-42b3-bbd8-37866cfa2caa",
   "metadata": {},
   "outputs": [],
   "source": [
    "import os"
   ]
  },
  {
   "cell_type": "code",
   "execution_count": 68,
   "id": "bb0d0aa1-c32d-467e-a53b-076140c1ce33",
   "metadata": {},
   "outputs": [],
   "source": [
    "# Export the dataframe to a .csv file, appending new rows of data each subsequent time this cell is run\n",
    "if os.path.exists(r'C:\\Users\\Stephen\\Documents\\Data Analysis\\Analyst Builder\\Python projects\\Auto_Crypto_Scraper.csv'):\n",
    "    df.to_csv(r'C:\\Users\\Stephen\\Documents\\Data Analysis\\Analyst Builder\\Python projects\\Auto_Crypto_Scraper.csv', mode='a', header=False, index=False)\n",
    "else:\n",
    "    df.to_csv(r'C:\\Users\\Stephen\\Documents\\Data Analysis\\Analyst Builder\\Python projects\\Auto_Crypto_Scraper.csv')"
   ]
  },
  {
   "cell_type": "markdown",
   "id": "8277dc85-851f-45ba-abe7-8570e79d3185",
   "metadata": {},
   "source": [
    "## Final Script"
   ]
  },
  {
   "cell_type": "code",
   "execution_count": 1,
   "id": "54e10c74-bf7e-45e7-9aca-91ad41422a1e",
   "metadata": {},
   "outputs": [],
   "source": [
    "from bs4 import BeautifulSoup\n",
    "import requests\n",
    "import pandas as pd\n",
    "from datetime import datetime\n",
    "import os\n",
    "import time"
   ]
  },
  {
   "cell_type": "code",
   "execution_count": 7,
   "id": "82b239c8-4922-4abe-b827-9d638862bc23",
   "metadata": {},
   "outputs": [],
   "source": [
    "def automated_crypto_pull():\n",
    "    url = 'https://coinmarketcap.com/currencies/bitcoin/'\n",
    "    page = requests.get(url)\n",
    "    soup = BeautifulSoup(page.text, 'html')\n",
    "\n",
    "    coin_name_span = soup.find('span', {'data-role': 'coin-name'})\n",
    "    crypto_name = coin_name_span['title']\n",
    "    crypto_price = soup.find('span', class_ = 'sc-65e7f566-0 WXGwg base-text').text\n",
    "    final_price = crypto_price.replace('$','')\n",
    "    date_time = datetime.now()\n",
    "    \n",
    "    dict = {'Crypto Name':crypto_name, 'Price':final_price, 'TimeStamp':date_time}\n",
    "    df = pd.DataFrame([dict])\n",
    "    \n",
    "    if os.path.exists(r'C:\\Users\\Stephen\\Documents\\Data Analysis\\Analyst Builder\\Python projects\\Auto_Crypto_Scraper.csv'):\n",
    "        df.to_csv(r'C:\\Users\\Stephen\\Documents\\Data Analysis\\Analyst Builder\\Python projects\\Auto_Crypto_Scraper.csv', mode='a', header=False, index=False)\n",
    "    else:\n",
    "        df.to_csv(r'C:\\Users\\Stephen\\Documents\\Data Analysis\\Analyst Builder\\Python projects\\Auto_Crypto_Scraper.csv', index=False)\n",
    "    print(df)"
   ]
  },
  {
   "cell_type": "code",
   "execution_count": 9,
   "id": "d8991432-b39f-47b4-b3c9-f29047708b40",
   "metadata": {},
   "outputs": [
    {
     "name": "stdout",
     "output_type": "stream",
     "text": [
      "  Crypto Name      Price                  TimeStamp\n",
      "0     Bitcoin  82,631.85 2025-03-29 13:25:23.307072\n",
      "  Crypto Name      Price                  TimeStamp\n",
      "0     Bitcoin  82,631.85 2025-03-29 13:25:33.599417\n",
      "  Crypto Name      Price                  TimeStamp\n",
      "0     Bitcoin  82,631.85 2025-03-29 13:25:43.882567\n",
      "  Crypto Name      Price                  TimeStamp\n",
      "0     Bitcoin  82,631.85 2025-03-29 13:25:54.239635\n",
      "  Crypto Name      Price                  TimeStamp\n",
      "0     Bitcoin  82,653.48 2025-03-29 13:26:04.483180\n",
      "  Crypto Name      Price                  TimeStamp\n",
      "0     Bitcoin  82,653.48 2025-03-29 13:26:14.734506\n",
      "  Crypto Name      Price                  TimeStamp\n",
      "0     Bitcoin  82,653.48 2025-03-29 13:26:24.992722\n",
      "  Crypto Name      Price                  TimeStamp\n",
      "0     Bitcoin  82,653.48 2025-03-29 13:26:35.180143\n",
      "  Crypto Name      Price                  TimeStamp\n",
      "0     Bitcoin  82,645.09 2025-03-29 13:26:45.397269\n",
      "  Crypto Name      Price                  TimeStamp\n",
      "0     Bitcoin  82,645.09 2025-03-29 13:26:55.669539\n",
      "  Crypto Name      Price                  TimeStamp\n",
      "0     Bitcoin  82,645.09 2025-03-29 13:27:05.855492\n",
      "  Crypto Name      Price                  TimeStamp\n",
      "0     Bitcoin  82,645.09 2025-03-29 13:27:16.037383\n",
      "  Crypto Name      Price                  TimeStamp\n",
      "0     Bitcoin  82,645.09 2025-03-29 13:27:26.227819\n",
      "  Crypto Name      Price                  TimeStamp\n",
      "0     Bitcoin  82,645.09 2025-03-29 13:27:36.369832\n",
      "  Crypto Name      Price                  TimeStamp\n",
      "0     Bitcoin  82,645.09 2025-03-29 13:27:46.594560\n",
      "  Crypto Name      Price                  TimeStamp\n",
      "0     Bitcoin  82,645.09 2025-03-29 13:27:56.790871\n",
      "  Crypto Name      Price                  TimeStamp\n",
      "0     Bitcoin  82,645.09 2025-03-29 13:28:07.020928\n",
      "  Crypto Name      Price                  TimeStamp\n",
      "0     Bitcoin  82,645.09 2025-03-29 13:28:17.207705\n",
      "  Crypto Name      Price                  TimeStamp\n",
      "0     Bitcoin  82,645.09 2025-03-29 13:28:27.399020\n",
      "  Crypto Name      Price                  TimeStamp\n",
      "0     Bitcoin  82,645.09 2025-03-29 13:28:37.590639\n",
      "  Crypto Name      Price                  TimeStamp\n",
      "0     Bitcoin  82,645.09 2025-03-29 13:28:47.800034\n",
      "  Crypto Name      Price                  TimeStamp\n",
      "0     Bitcoin  82,622.16 2025-03-29 13:28:58.045714\n"
     ]
    },
    {
     "ename": "KeyboardInterrupt",
     "evalue": "",
     "output_type": "error",
     "traceback": [
      "\u001b[1;31m---------------------------------------------------------------------------\u001b[0m",
      "\u001b[1;31mKeyboardInterrupt\u001b[0m                         Traceback (most recent call last)",
      "Cell \u001b[1;32mIn[9], line 4\u001b[0m\n\u001b[0;32m      2\u001b[0m \u001b[38;5;28;01mwhile\u001b[39;00m \u001b[38;5;28;01mTrue\u001b[39;00m:\n\u001b[0;32m      3\u001b[0m     automated_crypto_pull()\n\u001b[1;32m----> 4\u001b[0m     time\u001b[38;5;241m.\u001b[39msleep(\u001b[38;5;241m10\u001b[39m)\n",
      "\u001b[1;31mKeyboardInterrupt\u001b[0m: "
     ]
    }
   ],
   "source": [
    "# Run the automated_crypto_pull function every 10 seconds, appending new Bitcoin price data to the .csv\n",
    "while True:\n",
    "    automated_crypto_pull()\n",
    "    time.sleep(10)"
   ]
  },
  {
   "cell_type": "code",
   "execution_count": null,
   "id": "44822333-e7c1-4c8d-93a0-29cb63548c70",
   "metadata": {},
   "outputs": [],
   "source": []
  }
 ],
 "metadata": {
  "kernelspec": {
   "display_name": "Python [conda env:base] *",
   "language": "python",
   "name": "conda-base-py"
  },
  "language_info": {
   "codemirror_mode": {
    "name": "ipython",
    "version": 3
   },
   "file_extension": ".py",
   "mimetype": "text/x-python",
   "name": "python",
   "nbconvert_exporter": "python",
   "pygments_lexer": "ipython3",
   "version": "3.12.7"
  }
 },
 "nbformat": 4,
 "nbformat_minor": 5
}
